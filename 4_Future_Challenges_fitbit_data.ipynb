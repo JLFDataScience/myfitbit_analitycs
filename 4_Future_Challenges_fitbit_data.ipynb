{
 "cells": [
  {
   "cell_type": "markdown",
   "metadata": {},
   "source": [
    "## 4. Future challenges"
   ]
  },
  {
   "cell_type": "markdown",
   "metadata": {},
   "source": [
    "I have left to extract the heart rate information that the band measures. In this case I would give to do a more detailed analysis by days and by type of activity. I think I'd give itself for another dataset to analyze it individually and check for possible patterns."
   ]
  },
  {
   "cell_type": "markdown",
   "metadata": {},
   "source": [
    "## Test to extract df from the Heart Rate API  (HR) 💕"
   ]
  },
  {
   "cell_type": "code",
   "execution_count": 31,
   "metadata": {},
   "outputs": [
    {
     "name": "stdout",
     "output_type": "stream",
     "text": [
      "{'activities-heart': [{'dateTime': '2018-07-01', 'value': {'customHeartRateZones': [], 'heartRateZones': [{'caloriesOut': 2104.52436, 'max': 88, 'min': 30, 'minutes': 1294, 'name': 'Out of Range'}, {'caloriesOut': 704.8134, 'max': 123, 'min': 88, 'minutes': 134, 'name': 'Fat Burn'}, {'caloriesOut': 0, 'max': 149, 'min': 123, 'minutes': 0, 'name': 'Cardio'}, {'caloriesOut': 0, 'max': 220, 'min': 149, 'minutes': 0, 'name': 'Peak'}], 'restingHeartRate': 56}}, {'dateTime': '2018-07-02', 'value': {'customHeartRateZones': [], 'heartRateZones': [{'caloriesOut': 1096.60176, 'max': 88, 'min': 30, 'minutes': 809, 'name': 'Out of Range'}, {'caloriesOut': 391.22496, 'max': 123, 'min': 88, 'minutes': 84, 'name': 'Fat Burn'}, {'caloriesOut': 64.11492, 'max': 149, 'min': 123, 'minutes': 8, 'name': 'Cardio'}, {'caloriesOut': 114.25752, 'max': 220, 'min': 149, 'minutes': 9, 'name': 'Peak'}], 'restingHeartRate': 55}}, {'dateTime': '2018-07-03', 'value': {'customHeartRateZones': [], 'heartRateZones': [{'caloriesOut': 760.70268, 'max': 88, 'min': 30, 'minutes': 454, 'name': 'Out of Range'}, {'caloriesOut': 737.26524, 'max': 123, 'min': 88, 'minutes': 132, 'name': 'Fat Burn'}, {'caloriesOut': 216.909, 'max': 149, 'min': 123, 'minutes': 23, 'name': 'Cardio'}, {'caloriesOut': 0, 'max': 220, 'min': 149, 'minutes': 0, 'name': 'Peak'}], 'restingHeartRate': 56}}, {'dateTime': '2018-07-04', 'value': {'customHeartRateZones': [], 'heartRateZones': [{'caloriesOut': 1454.81148, 'max': 88, 'min': 30, 'minutes': 1035, 'name': 'Out of Range'}, {'caloriesOut': 720.0252, 'max': 123, 'min': 88, 'minutes': 153, 'name': 'Fat Burn'}, {'caloriesOut': 0, 'max': 149, 'min': 123, 'minutes': 0, 'name': 'Cardio'}, {'caloriesOut': 0, 'max': 220, 'min': 149, 'minutes': 0, 'name': 'Peak'}], 'restingHeartRate': 58}}, {'dateTime': '2018-07-05', 'value': {'customHeartRateZones': [], 'heartRateZones': [{'caloriesOut': 1390.35852, 'max': 88, 'min': 30, 'minutes': 1005, 'name': 'Out of Range'}, {'caloriesOut': 783.6894, 'max': 123, 'min': 88, 'minutes': 146, 'name': 'Fat Burn'}, {'caloriesOut': 187.16148, 'max': 149, 'min': 123, 'minutes': 21, 'name': 'Cardio'}, {'caloriesOut': 65.46708, 'max': 220, 'min': 149, 'minutes': 5, 'name': 'Peak'}], 'restingHeartRate': 58}}, {'dateTime': '2018-07-06', 'value': {'customHeartRateZones': [], 'heartRateZones': [{'caloriesOut': 1812.11976, 'max': 88, 'min': 30, 'minutes': 1257, 'name': 'Out of Range'}, {'caloriesOut': 717.43356, 'max': 123, 'min': 88, 'minutes': 132, 'name': 'Fat Burn'}, {'caloriesOut': 57.24144, 'max': 149, 'min': 123, 'minutes': 6, 'name': 'Cardio'}, {'caloriesOut': 0, 'max': 220, 'min': 149, 'minutes': 0, 'name': 'Peak'}], 'restingHeartRate': 57}}, {'dateTime': '2018-07-07', 'value': {'customHeartRateZones': [], 'heartRateZones': [{'caloriesOut': 1863.83988, 'max': 88, 'min': 30, 'minutes': 1259, 'name': 'Out of Range'}, {'caloriesOut': 540.3006, 'max': 123, 'min': 88, 'minutes': 90, 'name': 'Fat Burn'}, {'caloriesOut': 39.438, 'max': 149, 'min': 123, 'minutes': 4, 'name': 'Cardio'}, {'caloriesOut': 0, 'max': 220, 'min': 149, 'minutes': 0, 'name': 'Peak'}], 'restingHeartRate': 57}}, {'dateTime': '2018-07-08', 'value': {'customHeartRateZones': [], 'heartRateZones': [{'caloriesOut': 907.29936, 'max': 88, 'min': 30, 'minutes': 508, 'name': 'Out of Range'}, {'caloriesOut': 463.22748, 'max': 123, 'min': 88, 'minutes': 93, 'name': 'Fat Burn'}, {'caloriesOut': 29.74752, 'max': 149, 'min': 123, 'minutes': 3, 'name': 'Cardio'}, {'caloriesOut': 22.31064, 'max': 220, 'min': 149, 'minutes': 2, 'name': 'Peak'}], 'restingHeartRate': 57}}, {'dateTime': '2018-07-09', 'value': {'customHeartRateZones': [], 'heartRateZones': [{'caloriesOut': 1444.33224, 'max': 88, 'min': 30, 'minutes': 1021, 'name': 'Out of Range'}, {'caloriesOut': 658.0512, 'max': 123, 'min': 88, 'minutes': 119, 'name': 'Fat Burn'}, {'caloriesOut': 179.1612, 'max': 149, 'min': 123, 'minutes': 19, 'name': 'Cardio'}, {'caloriesOut': 11.94408, 'max': 220, 'min': 149, 'minutes': 1, 'name': 'Peak'}], 'restingHeartRate': 57}}, {'dateTime': '2018-07-10', 'value': {'customHeartRateZones': [], 'heartRateZones': [{'caloriesOut': 1018.28916, 'max': 88, 'min': 30, 'minutes': 606, 'name': 'Out of Range'}, {'caloriesOut': 1036.43064, 'max': 123, 'min': 88, 'minutes': 179, 'name': 'Fat Burn'}, {'caloriesOut': 159.10416, 'max': 149, 'min': 123, 'minutes': 18, 'name': 'Cardio'}, {'caloriesOut': 0, 'max': 220, 'min': 149, 'minutes': 0, 'name': 'Peak'}], 'restingHeartRate': 58}}, {'dateTime': '2018-07-11', 'value': {'customHeartRateZones': [], 'heartRateZones': [{'caloriesOut': 1835.78256, 'max': 88, 'min': 30, 'minutes': 1238, 'name': 'Out of Range'}, {'caloriesOut': 820.8738, 'max': 123, 'min': 88, 'minutes': 158, 'name': 'Fat Burn'}, {'caloriesOut': 24.7896, 'max': 149, 'min': 123, 'minutes': 3, 'name': 'Cardio'}, {'caloriesOut': 0, 'max': 220, 'min': 149, 'minutes': 0, 'name': 'Peak'}], 'restingHeartRate': 58}}, {'dateTime': '2018-07-12', 'value': {'customHeartRateZones': [], 'heartRateZones': [{'caloriesOut': 1199.4786, 'max': 88, 'min': 30, 'minutes': 716, 'name': 'Out of Range'}, {'caloriesOut': 1125.56052, 'max': 123, 'min': 88, 'minutes': 225, 'name': 'Fat Burn'}, {'caloriesOut': 0, 'max': 149, 'min': 123, 'minutes': 0, 'name': 'Cardio'}, {'caloriesOut': 0, 'max': 220, 'min': 149, 'minutes': 0, 'name': 'Peak'}], 'restingHeartRate': 58}}, {'dateTime': '2018-07-13', 'value': {'customHeartRateZones': [], 'heartRateZones': [{'caloriesOut': 2017.19736, 'max': 88, 'min': 30, 'minutes': 1291, 'name': 'Out of Range'}, {'caloriesOut': 548.30088, 'max': 123, 'min': 88, 'minutes': 98, 'name': 'Fat Burn'}, {'caloriesOut': 36.95904, 'max': 149, 'min': 123, 'minutes': 4, 'name': 'Cardio'}, {'caloriesOut': 0, 'max': 220, 'min': 149, 'minutes': 0, 'name': 'Peak'}], 'restingHeartRate': 57}}, {'dateTime': '2018-07-14', 'value': {'customHeartRateZones': [], 'heartRateZones': [{'caloriesOut': 606.2184, 'max': 88, 'min': 30, 'minutes': 352, 'name': 'Out of Range'}, {'caloriesOut': 253.41732, 'max': 123, 'min': 88, 'minutes': 45, 'name': 'Fat Burn'}, {'caloriesOut': 0, 'max': 149, 'min': 123, 'minutes': 0, 'name': 'Cardio'}, {'caloriesOut': 36.95904, 'max': 220, 'min': 149, 'minutes': 3, 'name': 'Peak'}], 'restingHeartRate': 58}}, {'dateTime': '2018-07-15', 'value': {'customHeartRateZones': [], 'heartRateZones': [{'caloriesOut': 1695.834, 'max': 88, 'min': 30, 'minutes': 1167, 'name': 'Out of Range'}, {'caloriesOut': 440.12808, 'max': 123, 'min': 88, 'minutes': 95, 'name': 'Fat Burn'}, {'caloriesOut': 0, 'max': 149, 'min': 123, 'minutes': 0, 'name': 'Cardio'}, {'caloriesOut': 0, 'max': 220, 'min': 149, 'minutes': 0, 'name': 'Peak'}], 'restingHeartRate': 58}}, {'dateTime': '2018-07-16', 'value': {'customHeartRateZones': [], 'heartRateZones': [{'caloriesOut': 1629.01476, 'max': 88, 'min': 30, 'minutes': 1085, 'name': 'Out of Range'}, {'caloriesOut': 706.39092, 'max': 123, 'min': 88, 'minutes': 133, 'name': 'Fat Burn'}, {'caloriesOut': 238.20552, 'max': 149, 'min': 123, 'minutes': 25, 'name': 'Cardio'}, {'caloriesOut': 34.81812, 'max': 220, 'min': 149, 'minutes': 3, 'name': 'Peak'}], 'restingHeartRate': 59}}, {'dateTime': '2018-07-17', 'value': {'customHeartRateZones': [], 'heartRateZones': [{'caloriesOut': 1439.14896, 'max': 88, 'min': 30, 'minutes': 1012, 'name': 'Out of Range'}, {'caloriesOut': 931.18752, 'max': 123, 'min': 88, 'minutes': 157, 'name': 'Fat Burn'}, {'caloriesOut': 216.57096, 'max': 149, 'min': 123, 'minutes': 24, 'name': 'Cardio'}, {'caloriesOut': 0, 'max': 220, 'min': 149, 'minutes': 0, 'name': 'Peak'}], 'restingHeartRate': 59}}, {'dateTime': '2018-07-18', 'value': {'customHeartRateZones': [], 'heartRateZones': [{'caloriesOut': 348.63192, 'max': 88, 'min': 30, 'minutes': 234, 'name': 'Out of Range'}, {'caloriesOut': 228.62772, 'max': 123, 'min': 88, 'minutes': 45, 'name': 'Fat Burn'}, {'caloriesOut': 80.45352, 'max': 149, 'min': 123, 'minutes': 8, 'name': 'Cardio'}, {'caloriesOut': 70.53768, 'max': 220, 'min': 149, 'minutes': 6, 'name': 'Peak'}], 'restingHeartRate': 60}}, {'dateTime': '2018-07-19', 'value': {'customHeartRateZones': [], 'heartRateZones': [{'max': 88, 'min': 30, 'name': 'Out of Range'}, {'max': 123, 'min': 88, 'name': 'Fat Burn'}, {'max': 149, 'min': 123, 'name': 'Cardio'}, {'max': 220, 'min': 149, 'name': 'Peak'}]}}, {'dateTime': '2018-07-20', 'value': {'customHeartRateZones': [], 'heartRateZones': [{'max': 88, 'min': 30, 'name': 'Out of Range'}, {'max': 123, 'min': 88, 'name': 'Fat Burn'}, {'max': 149, 'min': 123, 'name': 'Cardio'}, {'max': 220, 'min': 149, 'name': 'Peak'}]}}, {'dateTime': '2018-07-21', 'value': {'customHeartRateZones': [], 'heartRateZones': [{'max': 88, 'min': 30, 'name': 'Out of Range'}, {'max': 123, 'min': 88, 'name': 'Fat Burn'}, {'max': 149, 'min': 123, 'name': 'Cardio'}, {'max': 220, 'min': 149, 'name': 'Peak'}]}}, {'dateTime': '2018-07-22', 'value': {'customHeartRateZones': [], 'heartRateZones': [{'max': 88, 'min': 30, 'name': 'Out of Range'}, {'max': 123, 'min': 88, 'name': 'Fat Burn'}, {'max': 149, 'min': 123, 'name': 'Cardio'}, {'max': 220, 'min': 149, 'name': 'Peak'}]}}, {'dateTime': '2018-07-23', 'value': {'customHeartRateZones': [], 'heartRateZones': [{'max': 88, 'min': 30, 'name': 'Out of Range'}, {'max': 123, 'min': 88, 'name': 'Fat Burn'}, {'max': 149, 'min': 123, 'name': 'Cardio'}, {'max': 220, 'min': 149, 'name': 'Peak'}]}}, {'dateTime': '2018-07-24', 'value': {'customHeartRateZones': [], 'heartRateZones': [{'max': 88, 'min': 30, 'name': 'Out of Range'}, {'max': 123, 'min': 88, 'name': 'Fat Burn'}, {'max': 149, 'min': 123, 'name': 'Cardio'}, {'max': 220, 'min': 149, 'name': 'Peak'}]}}, {'dateTime': '2018-07-25', 'value': {'customHeartRateZones': [], 'heartRateZones': [{'max': 88, 'min': 30, 'name': 'Out of Range'}, {'max': 123, 'min': 88, 'name': 'Fat Burn'}, {'max': 149, 'min': 123, 'name': 'Cardio'}, {'max': 220, 'min': 149, 'name': 'Peak'}]}}, {'dateTime': '2018-07-26', 'value': {'customHeartRateZones': [], 'heartRateZones': [{'max': 88, 'min': 30, 'name': 'Out of Range'}, {'max': 123, 'min': 88, 'name': 'Fat Burn'}, {'max': 149, 'min': 123, 'name': 'Cardio'}, {'max': 220, 'min': 149, 'name': 'Peak'}]}}, {'dateTime': '2018-07-27', 'value': {'customHeartRateZones': [], 'heartRateZones': [{'caloriesOut': 499.1724, 'max': 88, 'min': 30, 'minutes': 443, 'name': 'Out of Range'}, {'caloriesOut': 96.9048, 'max': 123, 'min': 88, 'minutes': 86, 'name': 'Fat Burn'}, {'caloriesOut': 0, 'max': 149, 'min': 123, 'minutes': 0, 'name': 'Cardio'}, {'caloriesOut': 0, 'max': 220, 'min': 149, 'minutes': 0, 'name': 'Peak'}], 'restingHeartRate': 59}}, {'dateTime': '2018-07-28', 'value': {'customHeartRateZones': [], 'heartRateZones': [{'caloriesOut': 552.132, 'max': 88, 'min': 30, 'minutes': 490, 'name': 'Out of Range'}, {'caloriesOut': 12.3948, 'max': 123, 'min': 88, 'minutes': 11, 'name': 'Fat Burn'}, {'caloriesOut': 0, 'max': 149, 'min': 123, 'minutes': 0, 'name': 'Cardio'}, {'caloriesOut': 0, 'max': 220, 'min': 149, 'minutes': 0, 'name': 'Peak'}], 'restingHeartRate': 58}}, {'dateTime': '2018-07-29', 'value': {'customHeartRateZones': [], 'heartRateZones': [{'max': 88, 'min': 30, 'name': 'Out of Range'}, {'max': 123, 'min': 88, 'name': 'Fat Burn'}, {'max': 149, 'min': 123, 'name': 'Cardio'}, {'max': 220, 'min': 149, 'name': 'Peak'}]}}, {'dateTime': '2018-07-30', 'value': {'customHeartRateZones': [], 'heartRateZones': [{'caloriesOut': 772.9848, 'max': 88, 'min': 30, 'minutes': 686, 'name': 'Out of Range'}, {'caloriesOut': 81.1296, 'max': 123, 'min': 88, 'minutes': 72, 'name': 'Fat Burn'}, {'caloriesOut': 4.5072, 'max': 149, 'min': 123, 'minutes': 4, 'name': 'Cardio'}, {'caloriesOut': 0, 'max': 220, 'min': 149, 'minutes': 0, 'name': 'Peak'}], 'restingHeartRate': 58}}, {'dateTime': '2018-07-31', 'value': {'customHeartRateZones': [], 'heartRateZones': [{'caloriesOut': 1422.0216, 'max': 88, 'min': 30, 'minutes': 1262, 'name': 'Out of Range'}, {'caloriesOut': 83.3832, 'max': 123, 'min': 88, 'minutes': 74, 'name': 'Fat Burn'}, {'caloriesOut': 0, 'max': 149, 'min': 123, 'minutes': 0, 'name': 'Cardio'}, {'caloriesOut': 0, 'max': 220, 'min': 149, 'minutes': 0, 'name': 'Peak'}], 'restingHeartRate': 57}}]}\n"
     ]
    }
   ],
   "source": [
    "import requests\n",
    "import json\n",
    "import pandas as pd\n",
    "from time import sleep\n",
    "from datetime import datetime\n",
    "\n",
    "token = 'personal_token'\n",
    "base_date = '2018-07-31'\n",
    "end_date = '2018-01-01'\n",
    "\n",
    "url_sedant = 'https://api.fitbit.com/1/user/-/activities/heart/date/2018-07-31/2018-07-01.json'\n",
    "response3 = requests.get(url=url_sedant, headers={'Authorization':'Bearer ' + token}).json()\n",
    "print(response3)"
   ]
  }
 ],
 "metadata": {
  "kernelspec": {
   "display_name": "Python 3",
   "language": "python",
   "name": "python3"
  },
  "language_info": {
   "codemirror_mode": {
    "name": "ipython",
    "version": 3
   },
   "file_extension": ".py",
   "mimetype": "text/x-python",
   "name": "python",
   "nbconvert_exporter": "python",
   "pygments_lexer": "ipython3",
   "version": "3.7.4"
  }
 },
 "nbformat": 4,
 "nbformat_minor": 2
}
