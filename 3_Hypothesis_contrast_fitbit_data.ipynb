{
 "cells": [
  {
   "cell_type": "markdown",
   "metadata": {},
   "source": [
    "## 3. Contraste de hipótesis"
   ]
  },
  {
   "cell_type": "markdown",
   "metadata": {},
   "source": [
    "I will try to compare the average result between two variables formed from two groupings of the dataframe. The fact that the average values of each group are not equal does not imply that there is evidence of a significant difference. Because each group has its own variability, sample stockings do not have to be accurate.\n",
    "\n",
    "So I try to study whether the observed difference between the means of two groups is significant, for this I use the percentage of minutes that my sleep is interrupted on each night according to the day of the week: 'sleep_minutes_awake_per'. To do this I resort to a parametric method such as that based on the T-student distribution where both confidence intervals can be calculated to know between which values are the actual difference of population means or hypothesis test to determine whether the difference is significant.  \n",
    "**H0**: In the null hypothesis, the two means are considered to have no significant differences. $\\mu_1$ = $\\mu_2$  \n",
    "**H1**: In the alternative scenario, the means of the two variables (groupings) if they have significant differences. $\\mu_1$ > $\\mu_2$  \n",
    "With a 95% confidence degree (Significance level  α = 0.05)\n",
    "\n",
    "The significance level – determines the probability of error you want to assume when rejecting the H0. It is used as a benchmark to determine whether the p-value obtained in the hypothesis test is low enough to consider the observed differences significant and therefore reject H0.  \n",
    "For example, as I consider α=0.05, **H0** in favour of H1 **will be rejected** if the se **p-value < 0.05**, and you'll have a 5% chance of rejecting H0 when it's really true.  \n",
    "\n",
    "I have to determine the type of test, one or two queues: **Hypothesis tests** can be from one queue or two queues. If H1 uses  “>” or “<” it is a test of a tail, in which only deviations in a sense are analyzed. If H1 is of the type $\\neq$ it is a two-tailed test, in which possible deviations are analyzed in the two directions. I try to use the test of a tail because from the analyses developed above I know that the deviations of interest are in a sense where I choose the grouped variable of the two days of the week with the most % minutes of sleep interruption (Monday and Tuesday) in front of to the rest of the week and in a second test where I choose the day with the highest % (Monday) versus the day with the lowest % (Thursday).  \n",
    "In this case I assume that the two variables are independent.\n",
    "The t-statistic is the value that is calculated from the sample and that you want to extrapolate to the source population. In this case it is the difference of the sample stockings.\n",
    "I use the scipy.stats library using ttest_ind (T-test: Comparison of independent population stockings)  \n",
    "https://docs.scipy.org/doc/scipy/reference/generated/scipy.stats.ttest_ind.html"
   ]
  },
  {
   "cell_type": "code",
   "execution_count": 12,
   "metadata": {},
   "outputs": [
    {
     "name": "stdout",
     "output_type": "stream",
     "text": [
      "Comparación entre Lun/Mar vs resto semana: El p-value = 0.001 y el estadístico de t = 3.25\n",
      "Comparación entre Lunes vs Jueves: El p-value = 0.001 y el estadístico de t = 3.16\n"
     ]
    },
    {
     "data": {
      "image/png": "[encoded data removed]",
      "text/plain": [
       "<Figure size 864x288 with 2 Axes>"
      ]
     },
     "metadata": {
      "needs_background": "light"
     },
     "output_type": "display_data"
    }
   ],
   "source": [
    "Lun_Mar_desp_porc = df_final[(df_final['weekday'] == 0) | (df_final['weekday'] == 1)]['sleep_minutes_awake_per']\n",
    "restsemana_desp_porc = df_final[(df_final['weekday'] != 0) & (df_final['weekday'] != 1)]['sleep_minutes_awake_per']\n",
    "Lun_Mar_desp_porc = Lun_Mar_desp_porc.dropna()\n",
    "restsemana_desp_porc = restsemana_desp_porc.dropna()\n",
    "\n",
    "Lun_desp_porc = df_final[(df_final['weekday'] == 0)]['sleep_minutes_awake_per']\n",
    "Juev_desp_porc = df_final[(df_final['weekday'] == 3)]['sleep_minutes_awake_per']\n",
    "\n",
    "Lun_desp_porc = Lun_desp_porc.dropna()\n",
    "Juev_desp_porc = Juev_desp_porc.dropna()\n",
    "\n",
    "\n",
    "\n",
    "from scipy.stats import ttest_ind\n",
    "test1 = ttest_ind(Lun_Mar_desp_porc, restsemana_desp_porc, axis=0, equal_var=False)\n",
    "test2 = ttest_ind(Lun_desp_porc, Juev_desp_porc, axis=0, equal_var=False)\n",
    "\n",
    "fig = plt.figure(figsize = (12,4))\n",
    "ax = fig.add_subplot(121)\n",
    "Lun_Mar_desp_porc.plot(kind = 'hist', alpha = 0.5, color = colrcode[0],label = 'Lun/Mar')\n",
    "restsemana_desp_porc.plot(kind = 'hist', alpha = 0.5, color = colrcode[1],label = 'Resto semana')\n",
    "plt.xlabel('% interrupciones del sueño')\n",
    "plt.legend()\n",
    "\n",
    "ax2 = fig.add_subplot(122)\n",
    "p = Lun_desp_porc.plot(kind = 'hist', alpha = 0.5, color = colrcode[0],label = 'Lunes')\n",
    "p = Juev_desp_porc.plot(kind = 'hist', alpha = 0.5, color = colrcode[1],label = 'Jueves')\n",
    "plt.xlabel('% interrupciones del sueño')\n",
    "plt.legend()\n",
    "\n",
    "\n",
    "print('Comparación entre Lun/Mar vs resto semana: El p-value = {0} y el estadístico de t = {1}'\n",
    "      .format(round(test1.pvalue/2,3),round(test1.statistic,2)))\n",
    "\n",
    "print('Comparación entre Lunes vs Jueves: El p-value = {0} y el estadístico de t = {1}'\n",
    "      .format(round(test2.pvalue/2,3),round(test2.statistic,2)))"
   ]
  },
  {
   "cell_type": "markdown",
   "metadata": {},
   "source": [
    "**Observations**:  \n",
    "- In the first test, the H0 is rejected because p-value < α so we accept H1 and consider that the average % of sleep interruptions is higher on Mondays and Tuesdays compared to the rest of the week (p = 0,001).  \n",
    "- The second test also rejects the H0 because p-value <' so we accept H1 and consider that the average % disruption of sleep on Mondays (days with higher sleep disruption) is bigger than Thursdays (days with the lowest level of sleep disruption)(p = 0.001))"
   ]
  }
 ],
 "metadata": {
  "kernelspec": {
   "display_name": "Python 3",
   "language": "python",
   "name": "python3"
  },
  "language_info": {
   "codemirror_mode": {
    "name": "ipython",
    "version": 3
   },
   "file_extension": ".py",
   "mimetype": "text/x-python",
   "name": "python",
   "nbconvert_exporter": "python",
   "pygments_lexer": "ipython3",
   "version": "3.7.4"
  }
 },
 "nbformat": 4,
 "nbformat_minor": 2
}
